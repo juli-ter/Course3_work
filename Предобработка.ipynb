{
  "nbformat": 4,
  "nbformat_minor": 0,
  "metadata": {
    "colab": {
      "name": "Предобработка",
      "provenance": [],
      "authorship_tag": "ABX9TyP+EUHmNOyleCSBf87vc+hm",
      "include_colab_link": true
    },
    "kernelspec": {
      "name": "python3",
      "display_name": "Python 3"
    },
    "language_info": {
      "name": "python"
    }
  },
  "cells": [
    {
      "cell_type": "markdown",
      "metadata": {
        "id": "view-in-github",
        "colab_type": "text"
      },
      "source": [
        "<a href=\"https://colab.research.google.com/github/juli-ter/Course3_work/blob/main/%D0%9F%D1%80%D0%B5%D0%B4%D0%BE%D0%B1%D1%80%D0%B0%D0%B1%D0%BE%D1%82%D0%BA%D0%B0.ipynb\" target=\"_parent\"><img src=\"https://colab.research.google.com/assets/colab-badge.svg\" alt=\"Open In Colab\"/></a>"
      ]
    },
    {
      "cell_type": "code",
      "metadata": {
        "colab": {
          "base_uri": "https://localhost:8080/"
        },
        "id": "SHCvArj3w1E3",
        "outputId": "3815f720-9d4e-48d9-ba33-9234018704cd"
      },
      "source": [
        "!pip install pymorphy2"
      ],
      "execution_count": 2,
      "outputs": [
        {
          "output_type": "stream",
          "name": "stdout",
          "text": [
            "Collecting pymorphy2\n",
            "  Downloading pymorphy2-0.9.1-py3-none-any.whl (55 kB)\n",
            "\u001b[?25l\r\u001b[K     |██████                          | 10 kB 26.0 MB/s eta 0:00:01\r\u001b[K     |███████████▉                    | 20 kB 29.5 MB/s eta 0:00:01\r\u001b[K     |█████████████████▊              | 30 kB 32.0 MB/s eta 0:00:01\r\u001b[K     |███████████████████████▋        | 40 kB 35.5 MB/s eta 0:00:01\r\u001b[K     |█████████████████████████████▌  | 51 kB 39.1 MB/s eta 0:00:01\r\u001b[K     |████████████████████████████████| 55 kB 4.1 MB/s \n",
            "\u001b[?25hRequirement already satisfied: docopt>=0.6 in /usr/local/lib/python3.7/dist-packages (from pymorphy2) (0.6.2)\n",
            "Collecting dawg-python>=0.7.1\n",
            "  Downloading DAWG_Python-0.7.2-py2.py3-none-any.whl (11 kB)\n",
            "Collecting pymorphy2-dicts-ru<3.0,>=2.4\n",
            "  Downloading pymorphy2_dicts_ru-2.4.417127.4579844-py2.py3-none-any.whl (8.2 MB)\n",
            "\u001b[K     |████████████████████████████████| 8.2 MB 17.7 MB/s \n",
            "\u001b[?25hInstalling collected packages: pymorphy2-dicts-ru, dawg-python, pymorphy2\n",
            "Successfully installed dawg-python-0.7.2 pymorphy2-0.9.1 pymorphy2-dicts-ru-2.4.417127.4579844\n"
          ]
        }
      ]
    },
    {
      "cell_type": "code",
      "metadata": {
        "colab": {
          "base_uri": "https://localhost:8080/"
        },
        "id": "wszjpUHhw-tR",
        "outputId": "598eaf67-51cf-4364-dda6-78de85b34ec1"
      },
      "source": [
        "import pandas as pd\n",
        "from nltk.corpus import stopwords\n",
        "import nltk\n",
        "import pymorphy2\n",
        "import re\n",
        "import string\n",
        "from tqdm import tqdm\n",
        "from collections import Counter\n",
        "import numpy as np\n",
        "\n",
        "from gensim import corpora\n",
        "from datetime import datetime\n",
        "\n",
        "tqdm.pandas()\n",
        "nltk.download('stopwords')\n",
        "\n",
        "import warnings\n",
        "warnings.filterwarnings('ignore')\n",
        "\n",
        "from multiprocessing import Pool\n",
        "morph = pymorphy2.MorphAnalyzer()\n",
        "\n",
        "import matplotlib.pyplot as plt\n",
        "\n",
        "import warnings\n",
        "warnings.filterwarnings(\"ignore\", category=DeprecationWarning)"
      ],
      "execution_count": 3,
      "outputs": [
        {
          "output_type": "stream",
          "name": "stdout",
          "text": [
            "[nltk_data] Downloading package stopwords to /root/nltk_data...\n",
            "[nltk_data]   Unzipping corpora/stopwords.zip.\n"
          ]
        }
      ]
    },
    {
      "cell_type": "code",
      "metadata": {
        "id": "ayq2WtujxLe9"
      },
      "source": [
        "from IPython.display import clear_output\n",
        "!pip install twarc #Twarc\n",
        "!pip install tweepy # Tweepy 3.8.0\n",
        "!pip install argparse #Argparse 3.2\n",
        "!pip install xtract #Xtract 0.1 a3\n",
        "!pip install wget #Wget 3.2\n",
        "clear_output()"
      ],
      "execution_count": 5,
      "outputs": []
    },
    {
      "cell_type": "code",
      "metadata": {
        "id": "A_4kK8T-xNkG"
      },
      "source": [
        "import gzip\n",
        "import shutil\n",
        "import os\n",
        "import wget\n",
        "import csv\n",
        "import linecache\n",
        "from shutil import copyfile\n",
        "import ipywidgets as widgets"
      ],
      "execution_count": 6,
      "outputs": []
    },
    {
      "cell_type": "code",
      "metadata": {
        "colab": {
          "base_uri": "https://localhost:8080/"
        },
        "id": "U0ZKXvToxQO2",
        "outputId": "f0654f8d-0fa8-4cc6-c32d-6f6cab69743e"
      },
      "source": [
        "from google.colab import drive\n",
        "drive.mount('/content/drive/')"
      ],
      "execution_count": 7,
      "outputs": [
        {
          "output_type": "stream",
          "name": "stdout",
          "text": [
            "Mounted at /content/drive/\n"
          ]
        }
      ]
    },
    {
      "cell_type": "code",
      "metadata": {
        "id": "-hU41DMvxSOC"
      },
      "source": [
        "path = \"/content/drive/MyDrive/Course_3/\"\n"
      ],
      "execution_count": 8,
      "outputs": []
    },
    {
      "cell_type": "markdown",
      "metadata": {
        "id": "juQIWnnwuGH9"
      },
      "source": [
        "### Базовая очистка"
      ]
    },
    {
      "cell_type": "code",
      "metadata": {
        "colab": {
          "base_uri": "https://localhost:8080/",
          "height": 423
        },
        "id": "81eJpbykxgie",
        "outputId": "df59597f-6497-4bfe-953d-636b40260078"
      },
      "source": [
        "tweets_ru = pd.read_csv(path+'Text/hydratued_tweets_ru.csv')\n",
        "tweets_ru = tweets_ru.drop(columns=['favorite_count', 'source', 'in_reply_to_screen_name', 'is_retweet', 'retweet_count'])\n",
        "tweets_ru"
      ],
      "execution_count": 9,
      "outputs": [
        {
          "output_type": "execute_result",
          "data": {
            "text/html": [
              "<div>\n",
              "<style scoped>\n",
              "    .dataframe tbody tr th:only-of-type {\n",
              "        vertical-align: middle;\n",
              "    }\n",
              "\n",
              "    .dataframe tbody tr th {\n",
              "        vertical-align: top;\n",
              "    }\n",
              "\n",
              "    .dataframe thead th {\n",
              "        text-align: right;\n",
              "    }\n",
              "</style>\n",
              "<table border=\"1\" class=\"dataframe\">\n",
              "  <thead>\n",
              "    <tr style=\"text-align: right;\">\n",
              "      <th></th>\n",
              "      <th>text</th>\n",
              "      <th>created_at</th>\n",
              "      <th>id_str</th>\n",
              "    </tr>\n",
              "  </thead>\n",
              "  <tbody>\n",
              "    <tr>\n",
              "      <th>0</th>\n",
              "      <td>@lentaruofficial Что значит после окончания са...</td>\n",
              "      <td>Sun May 03 10:49:33 +0000 2020</td>\n",
              "      <td>1256898686115864582</td>\n",
              "    </tr>\n",
              "    <tr>\n",
              "      <th>1</th>\n",
              "      <td>А помните в Ухане мужчина с короновирусом в ра...</td>\n",
              "      <td>Wed Apr 22 12:50:58 +0000 2020</td>\n",
              "      <td>1252942974377496576</td>\n",
              "    </tr>\n",
              "    <tr>\n",
              "      <th>2</th>\n",
              "      <td>выходила выкинуть мусор под домом, а дед-сосед...</td>\n",
              "      <td>Wed Apr 15 18:30:08 +0000 2020</td>\n",
              "      <td>1250491613383725057</td>\n",
              "    </tr>\n",
              "    <tr>\n",
              "      <th>3</th>\n",
              "      <td>Меня бесит слово \"коронавирус\" уже с самого ег...</td>\n",
              "      <td>Tue May 05 09:08:05 +0000 2020</td>\n",
              "      <td>1257597927964446720</td>\n",
              "    </tr>\n",
              "    <tr>\n",
              "      <th>4</th>\n",
              "      <td>топ коммент обсуждения что раскупают в магазин...</td>\n",
              "      <td>Tue Mar 17 09:06:58 +0000 2020</td>\n",
              "      <td>1239840640286044161</td>\n",
              "    </tr>\n",
              "    <tr>\n",
              "      <th>...</th>\n",
              "      <td>...</td>\n",
              "      <td>...</td>\n",
              "      <td>...</td>\n",
              "    </tr>\n",
              "    <tr>\n",
              "      <th>160946</th>\n",
              "      <td>@promadm @SamMobilePriem @Gennadi070786 @D_Aza...</td>\n",
              "      <td>Wed Apr 15 04:44:36 +0000 2020</td>\n",
              "      <td>1250283862522916866</td>\n",
              "    </tr>\n",
              "    <tr>\n",
              "      <th>160947</th>\n",
              "      <td>Так в России, это нормально, когда долбоебы пр...</td>\n",
              "      <td>Wed Apr 15 10:25:34 +0000 2020</td>\n",
              "      <td>1250369668122054656</td>\n",
              "    </tr>\n",
              "    <tr>\n",
              "      <th>160948</th>\n",
              "      <td>Коротко о ситуации с короновирусом в моем горо...</td>\n",
              "      <td>Sun Mar 15 17:09:07 +0000 2020</td>\n",
              "      <td>1239237201290018816</td>\n",
              "    </tr>\n",
              "    <tr>\n",
              "      <th>160949</th>\n",
              "      <td>Шел какой там день карантина, я почти купила с...</td>\n",
              "      <td>Wed Apr 22 19:15:04 +0000 2020</td>\n",
              "      <td>1253039638316486658</td>\n",
              "    </tr>\n",
              "    <tr>\n",
              "      <th>160950</th>\n",
              "      <td>@woropaewaanna @miss_technisa @sanya_gordeeva ...</td>\n",
              "      <td>Wed Apr 15 11:36:49 +0000 2020</td>\n",
              "      <td>1250387599140827136</td>\n",
              "    </tr>\n",
              "  </tbody>\n",
              "</table>\n",
              "<p>160951 rows × 3 columns</p>\n",
              "</div>"
            ],
            "text/plain": [
              "                                                     text  ...               id_str\n",
              "0       @lentaruofficial Что значит после окончания са...  ...  1256898686115864582\n",
              "1       А помните в Ухане мужчина с короновирусом в ра...  ...  1252942974377496576\n",
              "2       выходила выкинуть мусор под домом, а дед-сосед...  ...  1250491613383725057\n",
              "3       Меня бесит слово \"коронавирус\" уже с самого ег...  ...  1257597927964446720\n",
              "4       топ коммент обсуждения что раскупают в магазин...  ...  1239840640286044161\n",
              "...                                                   ...  ...                  ...\n",
              "160946  @promadm @SamMobilePriem @Gennadi070786 @D_Aza...  ...  1250283862522916866\n",
              "160947  Так в России, это нормально, когда долбоебы пр...  ...  1250369668122054656\n",
              "160948  Коротко о ситуации с короновирусом в моем горо...  ...  1239237201290018816\n",
              "160949  Шел какой там день карантина, я почти купила с...  ...  1253039638316486658\n",
              "160950  @woropaewaanna @miss_technisa @sanya_gordeeva ...  ...  1250387599140827136\n",
              "\n",
              "[160951 rows x 3 columns]"
            ]
          },
          "metadata": {},
          "execution_count": 9
        }
      ]
    },
    {
      "cell_type": "code",
      "metadata": {
        "colab": {
          "base_uri": "https://localhost:8080/",
          "height": 423
        },
        "id": "HcdkeLA2xk8P",
        "outputId": "b6d51331-d4e1-4c9d-88e2-128dc6d49d00"
      },
      "source": [
        "tweets_en = pd.read_csv(path+'Text/hydratued_tweets_en.csv')\n",
        "tweets_en = tweets_en.drop(columns=['favorite_count', 'source', 'in_reply_to_screen_name', 'is_retweet', 'retweet_count'])\n",
        "tweets_en"
      ],
      "execution_count": 10,
      "outputs": [
        {
          "output_type": "execute_result",
          "data": {
            "text/html": [
              "<div>\n",
              "<style scoped>\n",
              "    .dataframe tbody tr th:only-of-type {\n",
              "        vertical-align: middle;\n",
              "    }\n",
              "\n",
              "    .dataframe tbody tr th {\n",
              "        vertical-align: top;\n",
              "    }\n",
              "\n",
              "    .dataframe thead th {\n",
              "        text-align: right;\n",
              "    }\n",
              "</style>\n",
              "<table border=\"1\" class=\"dataframe\">\n",
              "  <thead>\n",
              "    <tr style=\"text-align: right;\">\n",
              "      <th></th>\n",
              "      <th>text</th>\n",
              "      <th>created_at</th>\n",
              "      <th>id_str</th>\n",
              "    </tr>\n",
              "  </thead>\n",
              "  <tbody>\n",
              "    <tr>\n",
              "      <th>0</th>\n",
              "      <td>umair haque asks if life will go back to norma...</td>\n",
              "      <td>Mon May 11 17:13:00 +0000 2020</td>\n",
              "      <td>1259894286285496322</td>\n",
              "    </tr>\n",
              "    <tr>\n",
              "      <th>1</th>\n",
              "      <td>“Do as I say not as I do” miniTrump https://t....</td>\n",
              "      <td>Thu Apr 30 01:40:43 +0000 2020</td>\n",
              "      <td>1255673406143500288</td>\n",
              "    </tr>\n",
              "    <tr>\n",
              "      <th>2</th>\n",
              "      <td>Cities under lockdown amid Covid-19 scare: Sce...</td>\n",
              "      <td>Mon Mar 23 08:49:20 +0000 2020</td>\n",
              "      <td>1242010532112216064</td>\n",
              "    </tr>\n",
              "    <tr>\n",
              "      <th>3</th>\n",
              "      <td>#SackBorisAndDom #COVID19 #Conservative #KierS...</td>\n",
              "      <td>Mon May 25 18:05:05 +0000 2020</td>\n",
              "      <td>1264980823956246531</td>\n",
              "    </tr>\n",
              "    <tr>\n",
              "      <th>4</th>\n",
              "      <td>No, Governor Kemp, I won’t open my Georgia res...</td>\n",
              "      <td>Fri Apr 24 17:21:24 +0000 2020</td>\n",
              "      <td>1253735808961478657</td>\n",
              "    </tr>\n",
              "    <tr>\n",
              "      <th>...</th>\n",
              "      <td>...</td>\n",
              "      <td>...</td>\n",
              "      <td>...</td>\n",
              "    </tr>\n",
              "    <tr>\n",
              "      <th>152816</th>\n",
              "      <td>IF only that was trumps intention https://t.co...</td>\n",
              "      <td>Sat Apr 25 08:49:28 +0000 2020</td>\n",
              "      <td>1253969364228898816</td>\n",
              "    </tr>\n",
              "    <tr>\n",
              "      <th>152817</th>\n",
              "      <td>Lizzo out there having the time of her life in...</td>\n",
              "      <td>Wed Mar 18 22:30:46 +0000 2020</td>\n",
              "      <td>1240405312089227265</td>\n",
              "    </tr>\n",
              "    <tr>\n",
              "      <th>152818</th>\n",
              "      <td>Day Job: Cory Booker’s Top Aide. His Night One...</td>\n",
              "      <td>Thu May 07 15:27:58 +0000 2020</td>\n",
              "      <td>1258418305003487233</td>\n",
              "    </tr>\n",
              "    <tr>\n",
              "      <th>152819</th>\n",
              "      <td>Remember: F*CK @speakvos @SenFitzgerald @mkego...</td>\n",
              "      <td>Sun Apr 12 23:42:11 +0000 2020</td>\n",
              "      <td>1249482980629917701</td>\n",
              "    </tr>\n",
              "    <tr>\n",
              "      <th>152820</th>\n",
              "      <td>Update, she got passive aggresive when I expla...</td>\n",
              "      <td>Wed Mar 18 14:44:05 +0000 2020</td>\n",
              "      <td>1240287867219443713</td>\n",
              "    </tr>\n",
              "  </tbody>\n",
              "</table>\n",
              "<p>152821 rows × 3 columns</p>\n",
              "</div>"
            ],
            "text/plain": [
              "                                                     text  ...               id_str\n",
              "0       umair haque asks if life will go back to norma...  ...  1259894286285496322\n",
              "1       “Do as I say not as I do” miniTrump https://t....  ...  1255673406143500288\n",
              "2       Cities under lockdown amid Covid-19 scare: Sce...  ...  1242010532112216064\n",
              "3       #SackBorisAndDom #COVID19 #Conservative #KierS...  ...  1264980823956246531\n",
              "4       No, Governor Kemp, I won’t open my Georgia res...  ...  1253735808961478657\n",
              "...                                                   ...  ...                  ...\n",
              "152816  IF only that was trumps intention https://t.co...  ...  1253969364228898816\n",
              "152817  Lizzo out there having the time of her life in...  ...  1240405312089227265\n",
              "152818  Day Job: Cory Booker’s Top Aide. His Night One...  ...  1258418305003487233\n",
              "152819  Remember: F*CK @speakvos @SenFitzgerald @mkego...  ...  1249482980629917701\n",
              "152820  Update, she got passive aggresive when I expla...  ...  1240287867219443713\n",
              "\n",
              "[152821 rows x 3 columns]"
            ]
          },
          "metadata": {},
          "execution_count": 10
        }
      ]
    },
    {
      "cell_type": "code",
      "metadata": {
        "colab": {
          "base_uri": "https://localhost:8080/"
        },
        "id": "iR96_5Fj10Xe",
        "outputId": "c32b3e2d-fd20-41d2-b3e2-4e77dffb0c2d"
      },
      "source": [
        "!pip install emoji"
      ],
      "execution_count": 10,
      "outputs": [
        {
          "output_type": "stream",
          "name": "stdout",
          "text": [
            "Collecting emoji\n",
            "  Downloading emoji-1.5.0.tar.gz (185 kB)\n",
            "\u001b[?25l\r\u001b[K     |█▊                              | 10 kB 22.6 MB/s eta 0:00:01\r\u001b[K     |███▌                            | 20 kB 32.2 MB/s eta 0:00:01\r\u001b[K     |█████▎                          | 30 kB 39.6 MB/s eta 0:00:01\r\u001b[K     |███████                         | 40 kB 28.4 MB/s eta 0:00:01\r\u001b[K     |████████▉                       | 51 kB 15.9 MB/s eta 0:00:01\r\u001b[K     |██████████▋                     | 61 kB 17.9 MB/s eta 0:00:01\r\u001b[K     |████████████▍                   | 71 kB 12.2 MB/s eta 0:00:01\r\u001b[K     |██████████████                  | 81 kB 13.3 MB/s eta 0:00:01\r\u001b[K     |███████████████▉                | 92 kB 12.7 MB/s eta 0:00:01\r\u001b[K     |█████████████████▋              | 102 kB 13.9 MB/s eta 0:00:01\r\u001b[K     |███████████████████▍            | 112 kB 13.9 MB/s eta 0:00:01\r\u001b[K     |█████████████████████▏          | 122 kB 13.9 MB/s eta 0:00:01\r\u001b[K     |███████████████████████         | 133 kB 13.9 MB/s eta 0:00:01\r\u001b[K     |████████████████████████▊       | 143 kB 13.9 MB/s eta 0:00:01\r\u001b[K     |██████████████████████████▍     | 153 kB 13.9 MB/s eta 0:00:01\r\u001b[K     |████████████████████████████▏   | 163 kB 13.9 MB/s eta 0:00:01\r\u001b[K     |██████████████████████████████  | 174 kB 13.9 MB/s eta 0:00:01\r\u001b[K     |███████████████████████████████▊| 184 kB 13.9 MB/s eta 0:00:01\r\u001b[K     |████████████████████████████████| 185 kB 13.9 MB/s \n",
            "\u001b[?25hBuilding wheels for collected packages: emoji\n",
            "  Building wheel for emoji (setup.py) ... \u001b[?25l\u001b[?25hdone\n",
            "  Created wheel for emoji: filename=emoji-1.5.0-py3-none-any.whl size=187457 sha256=64af7ed55975acde8e04e922c631cd5c44a04a29be2d41f2ee5920f96d39cf5a\n",
            "  Stored in directory: /root/.cache/pip/wheels/db/b5/f6/b39abf14e94b3d6640613bbe630a66c10ccf7a12882d064fb5\n",
            "Successfully built emoji\n",
            "Installing collected packages: emoji\n",
            "Successfully installed emoji-1.5.0\n"
          ]
        }
      ]
    },
    {
      "cell_type": "code",
      "metadata": {
        "id": "3touZlK21s8A"
      },
      "source": [
        "import emoji"
      ],
      "execution_count": 11,
      "outputs": []
    },
    {
      "cell_type": "code",
      "metadata": {
        "colab": {
          "base_uri": "https://localhost:8080/",
          "height": 442
        },
        "id": "0Pl3mghj19pQ",
        "outputId": "c9ea50af-8ea8-433f-d49d-c0021cb3e5b4"
      },
      "source": [
        "def deEmojify(text):\n",
        "    emoji_pattern = re.compile(\"[\"\n",
        "        u\"\\U0001F600-\\U0001F64F\"  # emoticons\n",
        "        u\"\\U0001F300-\\U0001F5FF\"  # symbols & pictographs\n",
        "        u\"\\U0001F680-\\U0001F6FF\"  # transport & map symbols\n",
        "        u\"\\U0001F1E0-\\U0001F1FF\"  # flags (iOS)\n",
        "                           \"]+\", flags=re.UNICODE)\n",
        "    return emoji_pattern.sub(r' ', text)\n",
        "\n",
        "def give_emoji_free_text(text):\n",
        "    return emoji.get_emoji_regexp().sub(r'', text)\n",
        "\n",
        "punctuation = string.punctuation + '…«»—–'\n",
        "def clean_text(text):\n",
        "# Make text lowercase\n",
        "    text = text.lower()\n",
        "# remove text after @\n",
        "    text = re.sub(r'@\\S+', '', text)\n",
        "# remove urls\n",
        "    text = re.sub(r\"http\\S+\", ' ', text)\n",
        "# remove emojies\n",
        "    # text = give_emoji_free_text(text)\n",
        "# remove punctuation   \n",
        "    text = re.sub(r'[%s]' % re.escape(punctuation), ' ', text)\n",
        "# remove numbers\n",
        "    text = re.sub(r'[0-9]', ' ', text)\n",
        "# remove non letters\n",
        "    text = re.sub(r'[^\\w\\s]', '', text)\n",
        "# remove dublicate spaces\n",
        "    text = re.sub('\\s\\s+', ' ', text)\n",
        "#remove new line\n",
        "    text = re.sub('(\\r\\n|\\r|\\n)', ' ', text)\n",
        "#remove nonbreakable space\n",
        "    text = re.sub(u'\\xa0', ' ', text)\n",
        "    return text\n",
        "\n",
        "\n",
        "df_clean_ru = pd.DataFrame(tweets_ru.text.progress_apply(lambda x: clean_text(x)))\n",
        "df_clean_ru"
      ],
      "execution_count": 11,
      "outputs": [
        {
          "output_type": "stream",
          "name": "stderr",
          "text": [
            "100%|██████████| 160951/160951 [00:03<00:00, 40489.10it/s]\n"
          ]
        },
        {
          "output_type": "execute_result",
          "data": {
            "text/html": [
              "<div>\n",
              "<style scoped>\n",
              "    .dataframe tbody tr th:only-of-type {\n",
              "        vertical-align: middle;\n",
              "    }\n",
              "\n",
              "    .dataframe tbody tr th {\n",
              "        vertical-align: top;\n",
              "    }\n",
              "\n",
              "    .dataframe thead th {\n",
              "        text-align: right;\n",
              "    }\n",
              "</style>\n",
              "<table border=\"1\" class=\"dataframe\">\n",
              "  <thead>\n",
              "    <tr style=\"text-align: right;\">\n",
              "      <th></th>\n",
              "      <th>text</th>\n",
              "    </tr>\n",
              "  </thead>\n",
              "  <tbody>\n",
              "    <tr>\n",
              "      <th>0</th>\n",
              "      <td>что значит после окончания самоизоляции иш ра...</td>\n",
              "    </tr>\n",
              "    <tr>\n",
              "      <th>1</th>\n",
              "      <td>а помните в ухане мужчина с короновирусом в ра...</td>\n",
              "    </tr>\n",
              "    <tr>\n",
              "      <th>2</th>\n",
              "      <td>выходила выкинуть мусор под домом а дед сосед ...</td>\n",
              "    </tr>\n",
              "    <tr>\n",
              "      <th>3</th>\n",
              "      <td>меня бесит слово коронавирус уже с самого его ...</td>\n",
              "    </tr>\n",
              "    <tr>\n",
              "      <th>4</th>\n",
              "      <td>топ коммент обсуждения что раскупают в магазин...</td>\n",
              "    </tr>\n",
              "    <tr>\n",
              "      <th>...</th>\n",
              "      <td>...</td>\n",
              "    </tr>\n",
              "    <tr>\n",
              "      <th>160946</th>\n",
              "      <td>шверника а обработка территории и подъезда не...</td>\n",
              "    </tr>\n",
              "    <tr>\n",
              "      <th>160947</th>\n",
              "      <td>так в россии это нормально когда долбоебы прин...</td>\n",
              "    </tr>\n",
              "    <tr>\n",
              "      <th>160948</th>\n",
              "      <td>коротко о ситуации с короновирусом в моем горо...</td>\n",
              "    </tr>\n",
              "    <tr>\n",
              "      <th>160949</th>\n",
              "      <td>шел какой там день карантина я почти купила се...</td>\n",
              "    </tr>\n",
              "    <tr>\n",
              "      <th>160950</th>\n",
              "      <td>на карантин в казахстан</td>\n",
              "    </tr>\n",
              "  </tbody>\n",
              "</table>\n",
              "<p>160951 rows × 1 columns</p>\n",
              "</div>"
            ],
            "text/plain": [
              "                                                     text\n",
              "0        что значит после окончания самоизоляции иш ра...\n",
              "1       а помните в ухане мужчина с короновирусом в ра...\n",
              "2       выходила выкинуть мусор под домом а дед сосед ...\n",
              "3       меня бесит слово коронавирус уже с самого его ...\n",
              "4       топ коммент обсуждения что раскупают в магазин...\n",
              "...                                                   ...\n",
              "160946   шверника а обработка территории и подъезда не...\n",
              "160947  так в россии это нормально когда долбоебы прин...\n",
              "160948  коротко о ситуации с короновирусом в моем горо...\n",
              "160949  шел какой там день карантина я почти купила се...\n",
              "160950                            на карантин в казахстан\n",
              "\n",
              "[160951 rows x 1 columns]"
            ]
          },
          "metadata": {},
          "execution_count": 11
        }
      ]
    },
    {
      "cell_type": "code",
      "metadata": {
        "colab": {
          "base_uri": "https://localhost:8080/",
          "height": 442
        },
        "id": "kiqEzOdeLSlZ",
        "outputId": "33370f60-694a-4486-c0b9-95352f2899b9"
      },
      "source": [
        "df_clean_en = pd.DataFrame(tweets_en.text.progress_apply(lambda x: clean_text(x)))\n",
        "df_clean_en"
      ],
      "execution_count": 12,
      "outputs": [
        {
          "output_type": "stream",
          "name": "stderr",
          "text": [
            "100%|██████████| 152821/152821 [00:03<00:00, 41210.22it/s]\n"
          ]
        },
        {
          "output_type": "execute_result",
          "data": {
            "text/html": [
              "<div>\n",
              "<style scoped>\n",
              "    .dataframe tbody tr th:only-of-type {\n",
              "        vertical-align: middle;\n",
              "    }\n",
              "\n",
              "    .dataframe tbody tr th {\n",
              "        vertical-align: top;\n",
              "    }\n",
              "\n",
              "    .dataframe thead th {\n",
              "        text-align: right;\n",
              "    }\n",
              "</style>\n",
              "<table border=\"1\" class=\"dataframe\">\n",
              "  <thead>\n",
              "    <tr style=\"text-align: right;\">\n",
              "      <th></th>\n",
              "      <th>text</th>\n",
              "    </tr>\n",
              "  </thead>\n",
              "  <tbody>\n",
              "    <tr>\n",
              "      <th>0</th>\n",
              "      <td>umair haque asks if life will go back to norma...</td>\n",
              "    </tr>\n",
              "    <tr>\n",
              "      <th>1</th>\n",
              "      <td>do as i say not as i do minitrump</td>\n",
              "    </tr>\n",
              "    <tr>\n",
              "      <th>2</th>\n",
              "      <td>cities under lockdown amid covid scare scenes ...</td>\n",
              "    </tr>\n",
              "    <tr>\n",
              "      <th>3</th>\n",
              "      <td>sackborisanddom covid conservative kierstarme...</td>\n",
              "    </tr>\n",
              "    <tr>\n",
              "      <th>4</th>\n",
              "      <td>no governor kemp i wont open my georgia restau...</td>\n",
              "    </tr>\n",
              "    <tr>\n",
              "      <th>...</th>\n",
              "      <td>...</td>\n",
              "    </tr>\n",
              "    <tr>\n",
              "      <th>152816</th>\n",
              "      <td>if only that was trumps intention</td>\n",
              "    </tr>\n",
              "    <tr>\n",
              "      <th>152817</th>\n",
              "      <td>lizzo out there having the time of her life in...</td>\n",
              "    </tr>\n",
              "    <tr>\n",
              "      <th>152818</th>\n",
              "      <td>day job cory bookers top aide his night one e ...</td>\n",
              "    </tr>\n",
              "    <tr>\n",
              "      <th>152819</th>\n",
              "      <td>remember f ck they do not care about the voter...</td>\n",
              "    </tr>\n",
              "    <tr>\n",
              "      <th>152820</th>\n",
              "      <td>update she got passive aggresive when i explai...</td>\n",
              "    </tr>\n",
              "  </tbody>\n",
              "</table>\n",
              "<p>152821 rows × 1 columns</p>\n",
              "</div>"
            ],
            "text/plain": [
              "                                                     text\n",
              "0       umair haque asks if life will go back to norma...\n",
              "1                      do as i say not as i do minitrump \n",
              "2       cities under lockdown amid covid scare scenes ...\n",
              "3        sackborisanddom covid conservative kierstarme...\n",
              "4       no governor kemp i wont open my georgia restau...\n",
              "...                                                   ...\n",
              "152816                 if only that was trumps intention \n",
              "152817  lizzo out there having the time of her life in...\n",
              "152818  day job cory bookers top aide his night one e ...\n",
              "152819  remember f ck they do not care about the voter...\n",
              "152820  update she got passive aggresive when i explai...\n",
              "\n",
              "[152821 rows x 1 columns]"
            ]
          },
          "metadata": {},
          "execution_count": 12
        }
      ]
    },
    {
      "cell_type": "markdown",
      "metadata": {
        "id": "qRcty0FOuOK7"
      },
      "source": [
        "### Стоп слова и лемматизация"
      ]
    },
    {
      "cell_type": "code",
      "metadata": {
        "colab": {
          "base_uri": "https://localhost:8080/"
        },
        "id": "wOwW2pZE2M5q",
        "outputId": "df258a9d-ef31-46bb-a94b-1da25370782f"
      },
      "source": [
        "\n",
        "stopwords_list = stopwords.words('russian') + stopwords.words('english')\n",
        "stopwords_list.extend(('её', 'это', 'всё', 'ещё', 'весь', 'свой', 'который', 'мочь', ''))\n",
        "print(stopwords_list)\n",
        "\n",
        "def lemmatize(text, lemmer = morph, stopwords = stopwords_list):\n",
        "    words = text.split(' ')\n",
        "    lemmas = [lemmer.parse(w)[0].normal_form for w in words]\n",
        "    return [w for w in lemmas if len(w) >= 3 and not w in stopwords]\n",
        "\n",
        "with Pool(processes = 4) as pool:\n",
        "    lemmatized_ru = pool.starmap(lemmatize, zip(df_clean_ru.text))"
      ],
      "execution_count": 14,
      "outputs": [
        {
          "output_type": "stream",
          "name": "stdout",
          "text": [
            "['и', 'в', 'во', 'не', 'что', 'он', 'на', 'я', 'с', 'со', 'как', 'а', 'то', 'все', 'она', 'так', 'его', 'но', 'да', 'ты', 'к', 'у', 'же', 'вы', 'за', 'бы', 'по', 'только', 'ее', 'мне', 'было', 'вот', 'от', 'меня', 'еще', 'нет', 'о', 'из', 'ему', 'теперь', 'когда', 'даже', 'ну', 'вдруг', 'ли', 'если', 'уже', 'или', 'ни', 'быть', 'был', 'него', 'до', 'вас', 'нибудь', 'опять', 'уж', 'вам', 'ведь', 'там', 'потом', 'себя', 'ничего', 'ей', 'может', 'они', 'тут', 'где', 'есть', 'надо', 'ней', 'для', 'мы', 'тебя', 'их', 'чем', 'была', 'сам', 'чтоб', 'без', 'будто', 'чего', 'раз', 'тоже', 'себе', 'под', 'будет', 'ж', 'тогда', 'кто', 'этот', 'того', 'потому', 'этого', 'какой', 'совсем', 'ним', 'здесь', 'этом', 'один', 'почти', 'мой', 'тем', 'чтобы', 'нее', 'сейчас', 'были', 'куда', 'зачем', 'всех', 'никогда', 'можно', 'при', 'наконец', 'два', 'об', 'другой', 'хоть', 'после', 'над', 'больше', 'тот', 'через', 'эти', 'нас', 'про', 'всего', 'них', 'какая', 'много', 'разве', 'три', 'эту', 'моя', 'впрочем', 'хорошо', 'свою', 'этой', 'перед', 'иногда', 'лучше', 'чуть', 'том', 'нельзя', 'такой', 'им', 'более', 'всегда', 'конечно', 'всю', 'между', 'i', 'me', 'my', 'myself', 'we', 'our', 'ours', 'ourselves', 'you', \"you're\", \"you've\", \"you'll\", \"you'd\", 'your', 'yours', 'yourself', 'yourselves', 'he', 'him', 'his', 'himself', 'she', \"she's\", 'her', 'hers', 'herself', 'it', \"it's\", 'its', 'itself', 'they', 'them', 'their', 'theirs', 'themselves', 'what', 'which', 'who', 'whom', 'this', 'that', \"that'll\", 'these', 'those', 'am', 'is', 'are', 'was', 'were', 'be', 'been', 'being', 'have', 'has', 'had', 'having', 'do', 'does', 'did', 'doing', 'a', 'an', 'the', 'and', 'but', 'if', 'or', 'because', 'as', 'until', 'while', 'of', 'at', 'by', 'for', 'with', 'about', 'against', 'between', 'into', 'through', 'during', 'before', 'after', 'above', 'below', 'to', 'from', 'up', 'down', 'in', 'out', 'on', 'off', 'over', 'under', 'again', 'further', 'then', 'once', 'here', 'there', 'when', 'where', 'why', 'how', 'all', 'any', 'both', 'each', 'few', 'more', 'most', 'other', 'some', 'such', 'no', 'nor', 'not', 'only', 'own', 'same', 'so', 'than', 'too', 'very', 's', 't', 'can', 'will', 'just', 'don', \"don't\", 'should', \"should've\", 'now', 'd', 'll', 'm', 'o', 're', 've', 'y', 'ain', 'aren', \"aren't\", 'couldn', \"couldn't\", 'didn', \"didn't\", 'doesn', \"doesn't\", 'hadn', \"hadn't\", 'hasn', \"hasn't\", 'haven', \"haven't\", 'isn', \"isn't\", 'ma', 'mightn', \"mightn't\", 'mustn', \"mustn't\", 'needn', \"needn't\", 'shan', \"shan't\", 'shouldn', \"shouldn't\", 'wasn', \"wasn't\", 'weren', \"weren't\", 'won', \"won't\", 'wouldn', \"wouldn't\", 'её', 'это', 'всё', 'ещё', 'весь', 'свой', 'который', 'мочь', '']\n"
          ]
        }
      ]
    },
    {
      "cell_type": "code",
      "metadata": {
        "colab": {
          "base_uri": "https://localhost:8080/",
          "height": 423
        },
        "id": "Ql-3pNtDMNWj",
        "outputId": "caa7eee2-fe6a-4a14-c235-4852ec77d677"
      },
      "source": [
        "comments_lemmatized_ru = pd.DataFrame({'text' : lemmatized_ru, 'date' : tweets_ru.created_at, 'raw_text':tweets_ru.text})\n",
        "comments_lemmatized_ru"
      ],
      "execution_count": 15,
      "outputs": [
        {
          "output_type": "execute_result",
          "data": {
            "text/html": [
              "<div>\n",
              "<style scoped>\n",
              "    .dataframe tbody tr th:only-of-type {\n",
              "        vertical-align: middle;\n",
              "    }\n",
              "\n",
              "    .dataframe tbody tr th {\n",
              "        vertical-align: top;\n",
              "    }\n",
              "\n",
              "    .dataframe thead th {\n",
              "        text-align: right;\n",
              "    }\n",
              "</style>\n",
              "<table border=\"1\" class=\"dataframe\">\n",
              "  <thead>\n",
              "    <tr style=\"text-align: right;\">\n",
              "      <th></th>\n",
              "      <th>text</th>\n",
              "      <th>date</th>\n",
              "      <th>raw_text</th>\n",
              "    </tr>\n",
              "  </thead>\n",
              "  <tbody>\n",
              "    <tr>\n",
              "      <th>0</th>\n",
              "      <td>[значит, окончание, самоизоляция, размечтаться]</td>\n",
              "      <td>Sun May 03 10:49:33 +0000 2020</td>\n",
              "      <td>@lentaruofficial Что значит после окончания са...</td>\n",
              "    </tr>\n",
              "    <tr>\n",
              "      <th>1</th>\n",
              "      <td>[помнить, ухань, мужчина, короновирус, раскали...</td>\n",
              "      <td>Wed Apr 22 12:50:58 +0000 2020</td>\n",
              "      <td>А помните в Ухане мужчина с короновирусом в ра...</td>\n",
              "    </tr>\n",
              "    <tr>\n",
              "      <th>2</th>\n",
              "      <td>[выходить, выкинуть, мусор, дом, дед, сосед, н...</td>\n",
              "      <td>Wed Apr 15 18:30:08 +0000 2020</td>\n",
              "      <td>выходила выкинуть мусор под домом, а дед-сосед...</td>\n",
              "    </tr>\n",
              "    <tr>\n",
              "      <th>3</th>\n",
              "      <td>[бесить, слово, коронавирус, появление, жизнь]</td>\n",
              "      <td>Tue May 05 09:08:05 +0000 2020</td>\n",
              "      <td>Меня бесит слово \"коронавирус\" уже с самого ег...</td>\n",
              "    </tr>\n",
              "    <tr>\n",
              "      <th>4</th>\n",
              "      <td>[топ, коммент, обсуждение, раскупать, магазин,...</td>\n",
              "      <td>Tue Mar 17 09:06:58 +0000 2020</td>\n",
              "      <td>топ коммент обсуждения что раскупают в магазин...</td>\n",
              "    </tr>\n",
              "    <tr>\n",
              "      <th>...</th>\n",
              "      <td>...</td>\n",
              "      <td>...</td>\n",
              "      <td>...</td>\n",
              "    </tr>\n",
              "    <tr>\n",
              "      <th>160946</th>\n",
              "      <td>[шверник, обработка, территория, подъезд, пров...</td>\n",
              "      <td>Wed Apr 15 04:44:36 +0000 2020</td>\n",
              "      <td>@promadm @SamMobilePriem @Gennadi070786 @D_Aza...</td>\n",
              "    </tr>\n",
              "    <tr>\n",
              "      <th>160947</th>\n",
              "      <td>[россия, нормально, долбоеб, принимать, решение]</td>\n",
              "      <td>Wed Apr 15 10:25:34 +0000 2020</td>\n",
              "      <td>Так в России, это нормально, когда долбоебы пр...</td>\n",
              "    </tr>\n",
              "    <tr>\n",
              "      <th>160948</th>\n",
              "      <td>[коротко, ситуация, короновирус, город, массов...</td>\n",
              "      <td>Sun Mar 15 17:09:07 +0000 2020</td>\n",
              "      <td>Коротко о ситуации с короновирусом в моем горо...</td>\n",
              "    </tr>\n",
              "    <tr>\n",
              "      <th>160949</th>\n",
              "      <td>[идти, день, карантин, купить, краска, волос, ...</td>\n",
              "      <td>Wed Apr 22 19:15:04 +0000 2020</td>\n",
              "      <td>Шел какой там день карантина, я почти купила с...</td>\n",
              "    </tr>\n",
              "    <tr>\n",
              "      <th>160950</th>\n",
              "      <td>[карантин, казахстан]</td>\n",
              "      <td>Wed Apr 15 11:36:49 +0000 2020</td>\n",
              "      <td>@woropaewaanna @miss_technisa @sanya_gordeeva ...</td>\n",
              "    </tr>\n",
              "  </tbody>\n",
              "</table>\n",
              "<p>160951 rows × 3 columns</p>\n",
              "</div>"
            ],
            "text/plain": [
              "                                                     text  ...                                           raw_text\n",
              "0         [значит, окончание, самоизоляция, размечтаться]  ...  @lentaruofficial Что значит после окончания са...\n",
              "1       [помнить, ухань, мужчина, короновирус, раскали...  ...  А помните в Ухане мужчина с короновирусом в ра...\n",
              "2       [выходить, выкинуть, мусор, дом, дед, сосед, н...  ...  выходила выкинуть мусор под домом, а дед-сосед...\n",
              "3          [бесить, слово, коронавирус, появление, жизнь]  ...  Меня бесит слово \"коронавирус\" уже с самого ег...\n",
              "4       [топ, коммент, обсуждение, раскупать, магазин,...  ...  топ коммент обсуждения что раскупают в магазин...\n",
              "...                                                   ...  ...                                                ...\n",
              "160946  [шверник, обработка, территория, подъезд, пров...  ...  @promadm @SamMobilePriem @Gennadi070786 @D_Aza...\n",
              "160947   [россия, нормально, долбоеб, принимать, решение]  ...  Так в России, это нормально, когда долбоебы пр...\n",
              "160948  [коротко, ситуация, короновирус, город, массов...  ...  Коротко о ситуации с короновирусом в моем горо...\n",
              "160949  [идти, день, карантин, купить, краска, волос, ...  ...  Шел какой там день карантина, я почти купила с...\n",
              "160950                              [карантин, казахстан]  ...  @woropaewaanna @miss_technisa @sanya_gordeeva ...\n",
              "\n",
              "[160951 rows x 3 columns]"
            ]
          },
          "metadata": {},
          "execution_count": 15
        }
      ]
    },
    {
      "cell_type": "code",
      "metadata": {
        "id": "qbKbkhpZ6_os"
      },
      "source": [
        "\n",
        "with Pool(processes = 4) as pool:\n",
        "    lemmatized_en = pool.starmap(lemmatize, zip(df_clean_en.text))"
      ],
      "execution_count": 16,
      "outputs": []
    },
    {
      "cell_type": "code",
      "metadata": {
        "colab": {
          "base_uri": "https://localhost:8080/",
          "height": 423
        },
        "id": "X030953aAE-o",
        "outputId": "c522ae69-44bd-40c8-f958-5bb61da8e5d2"
      },
      "source": [
        "comments_lemmatized_en = pd.DataFrame({'text' : lemmatized_en, 'date' : tweets_en.created_at, 'raw_text':tweets_en.text})\n",
        "comments_lemmatized_en"
      ],
      "execution_count": 17,
      "outputs": [
        {
          "output_type": "execute_result",
          "data": {
            "text/html": [
              "<div>\n",
              "<style scoped>\n",
              "    .dataframe tbody tr th:only-of-type {\n",
              "        vertical-align: middle;\n",
              "    }\n",
              "\n",
              "    .dataframe tbody tr th {\n",
              "        vertical-align: top;\n",
              "    }\n",
              "\n",
              "    .dataframe thead th {\n",
              "        text-align: right;\n",
              "    }\n",
              "</style>\n",
              "<table border=\"1\" class=\"dataframe\">\n",
              "  <thead>\n",
              "    <tr style=\"text-align: right;\">\n",
              "      <th></th>\n",
              "      <th>text</th>\n",
              "      <th>date</th>\n",
              "      <th>raw_text</th>\n",
              "    </tr>\n",
              "  </thead>\n",
              "  <tbody>\n",
              "    <tr>\n",
              "      <th>0</th>\n",
              "      <td>[umair, haque, asks, life, back, normal, coron...</td>\n",
              "      <td>Mon May 11 17:13:00 +0000 2020</td>\n",
              "      <td>umair haque asks if life will go back to norma...</td>\n",
              "    </tr>\n",
              "    <tr>\n",
              "      <th>1</th>\n",
              "      <td>[say, minitrump]</td>\n",
              "      <td>Thu Apr 30 01:40:43 +0000 2020</td>\n",
              "      <td>“Do as I say not as I do” miniTrump https://t....</td>\n",
              "    </tr>\n",
              "    <tr>\n",
              "      <th>2</th>\n",
              "      <td>[cities, lockdown, amid, covid, scare, scenes,...</td>\n",
              "      <td>Mon Mar 23 08:49:20 +0000 2020</td>\n",
              "      <td>Cities under lockdown amid Covid-19 scare: Sce...</td>\n",
              "    </tr>\n",
              "    <tr>\n",
              "      <th>3</th>\n",
              "      <td>[sackborisanddom, covid, conservative, kiersta...</td>\n",
              "      <td>Mon May 25 18:05:05 +0000 2020</td>\n",
              "      <td>#SackBorisAndDom #COVID19 #Conservative #KierS...</td>\n",
              "    </tr>\n",
              "    <tr>\n",
              "      <th>4</th>\n",
              "      <td>[governor, kemp, wont, open, georgia, restaura...</td>\n",
              "      <td>Fri Apr 24 17:21:24 +0000 2020</td>\n",
              "      <td>No, Governor Kemp, I won’t open my Georgia res...</td>\n",
              "    </tr>\n",
              "    <tr>\n",
              "      <th>...</th>\n",
              "      <td>...</td>\n",
              "      <td>...</td>\n",
              "      <td>...</td>\n",
              "    </tr>\n",
              "    <tr>\n",
              "      <th>152816</th>\n",
              "      <td>[trumps, intention]</td>\n",
              "      <td>Sat Apr 25 08:49:28 +0000 2020</td>\n",
              "      <td>IF only that was trumps intention https://t.co...</td>\n",
              "    </tr>\n",
              "    <tr>\n",
              "      <th>152817</th>\n",
              "      <td>[lizzo, time, life, florida]</td>\n",
              "      <td>Wed Mar 18 22:30:46 +0000 2020</td>\n",
              "      <td>Lizzo out there having the time of her life in...</td>\n",
              "    </tr>\n",
              "    <tr>\n",
              "      <th>152818</th>\n",
              "      <td>[day, job, cory, bookers, top, aide, night, on...</td>\n",
              "      <td>Thu May 07 15:27:58 +0000 2020</td>\n",
              "      <td>Day Job: Cory Booker’s Top Aide. His Night One...</td>\n",
              "    </tr>\n",
              "    <tr>\n",
              "      <th>152819</th>\n",
              "      <td>[remember, care, voters, care]</td>\n",
              "      <td>Sun Apr 12 23:42:11 +0000 2020</td>\n",
              "      <td>Remember: F*CK @speakvos @SenFitzgerald @mkego...</td>\n",
              "    </tr>\n",
              "    <tr>\n",
              "      <th>152820</th>\n",
              "      <td>[update, got, passive, aggresive, explained, a...</td>\n",
              "      <td>Wed Mar 18 14:44:05 +0000 2020</td>\n",
              "      <td>Update, she got passive aggresive when I expla...</td>\n",
              "    </tr>\n",
              "  </tbody>\n",
              "</table>\n",
              "<p>152821 rows × 3 columns</p>\n",
              "</div>"
            ],
            "text/plain": [
              "                                                     text  ...                                           raw_text\n",
              "0       [umair, haque, asks, life, back, normal, coron...  ...  umair haque asks if life will go back to norma...\n",
              "1                                        [say, minitrump]  ...  “Do as I say not as I do” miniTrump https://t....\n",
              "2       [cities, lockdown, amid, covid, scare, scenes,...  ...  Cities under lockdown amid Covid-19 scare: Sce...\n",
              "3       [sackborisanddom, covid, conservative, kiersta...  ...  #SackBorisAndDom #COVID19 #Conservative #KierS...\n",
              "4       [governor, kemp, wont, open, georgia, restaura...  ...  No, Governor Kemp, I won’t open my Georgia res...\n",
              "...                                                   ...  ...                                                ...\n",
              "152816                                [trumps, intention]  ...  IF only that was trumps intention https://t.co...\n",
              "152817                       [lizzo, time, life, florida]  ...  Lizzo out there having the time of her life in...\n",
              "152818  [day, job, cory, bookers, top, aide, night, on...  ...  Day Job: Cory Booker’s Top Aide. His Night One...\n",
              "152819                     [remember, care, voters, care]  ...  Remember: F*CK @speakvos @SenFitzgerald @mkego...\n",
              "152820  [update, got, passive, aggresive, explained, a...  ...  Update, she got passive aggresive when I expla...\n",
              "\n",
              "[152821 rows x 3 columns]"
            ]
          },
          "metadata": {},
          "execution_count": 17
        }
      ]
    },
    {
      "cell_type": "markdown",
      "metadata": {
        "id": "klumlXqBuRuc"
      },
      "source": [
        "### Уберем нечастые, маленькие"
      ]
    },
    {
      "cell_type": "code",
      "metadata": {
        "id": "UcS95C41MFSa"
      },
      "source": [
        "def wordsCount(texts):\n",
        "    count = Counter()\n",
        "    for words in texts:\n",
        "        for word in words:\n",
        "            count[word] += 1\n",
        "    return count\n",
        "\n",
        "def removeNotCommonWords(text, word_counter):\n",
        "    return [word for word in text if word_counter[word] > 10]\n",
        "\n",
        "def func(df):\n",
        "    word_counter = wordsCount(df.text.values.tolist())\n",
        "    df.text = df.text.apply(lambda x: removeNotCommonWords(x, word_counter))\n",
        "    df.text = df.text.apply(lambda x: ' '.join(x))\n",
        "    df.text = df.text.apply(lambda x: x.split())\n",
        "    df = df[df.text.apply(lambda x: len(x) >= 4)]\n",
        "    return df\n",
        "\n"
      ],
      "execution_count": 18,
      "outputs": []
    },
    {
      "cell_type": "code",
      "metadata": {
        "colab": {
          "base_uri": "https://localhost:8080/",
          "height": 423
        },
        "id": "oZC4BMWzrAD6",
        "outputId": "1e61d4fa-d63d-48c6-cc2c-663dd21da5b1"
      },
      "source": [
        "clean_texts_ru = func(comments_lemmatized_ru)\n",
        "clean_texts_ru.to_csv(path+'clean_texts_ru.csv', index = False)\n",
        "clean_texts_ru"
      ],
      "execution_count": 19,
      "outputs": [
        {
          "output_type": "execute_result",
          "data": {
            "text/html": [
              "<div>\n",
              "<style scoped>\n",
              "    .dataframe tbody tr th:only-of-type {\n",
              "        vertical-align: middle;\n",
              "    }\n",
              "\n",
              "    .dataframe tbody tr th {\n",
              "        vertical-align: top;\n",
              "    }\n",
              "\n",
              "    .dataframe thead th {\n",
              "        text-align: right;\n",
              "    }\n",
              "</style>\n",
              "<table border=\"1\" class=\"dataframe\">\n",
              "  <thead>\n",
              "    <tr style=\"text-align: right;\">\n",
              "      <th></th>\n",
              "      <th>text</th>\n",
              "      <th>date</th>\n",
              "      <th>raw_text</th>\n",
              "    </tr>\n",
              "  </thead>\n",
              "  <tbody>\n",
              "    <tr>\n",
              "      <th>1</th>\n",
              "      <td>[помнить, ухань, мужчина, короновирус, масло, ...</td>\n",
              "      <td>Wed Apr 22 12:50:58 +0000 2020</td>\n",
              "      <td>А помните в Ухане мужчина с короновирусом в ра...</td>\n",
              "    </tr>\n",
              "    <tr>\n",
              "      <th>2</th>\n",
              "      <td>[выходить, выкинуть, мусор, дом, дед, сосед, н...</td>\n",
              "      <td>Wed Apr 15 18:30:08 +0000 2020</td>\n",
              "      <td>выходила выкинуть мусор под домом, а дед-сосед...</td>\n",
              "    </tr>\n",
              "    <tr>\n",
              "      <th>3</th>\n",
              "      <td>[бесить, слово, коронавирус, появление, жизнь]</td>\n",
              "      <td>Tue May 05 09:08:05 +0000 2020</td>\n",
              "      <td>Меня бесит слово \"коронавирус\" уже с самого ег...</td>\n",
              "    </tr>\n",
              "    <tr>\n",
              "      <th>4</th>\n",
              "      <td>[топ, коммент, обсуждение, раскупать, магазин,...</td>\n",
              "      <td>Tue Mar 17 09:06:58 +0000 2020</td>\n",
              "      <td>топ коммент обсуждения что раскупают в магазин...</td>\n",
              "    </tr>\n",
              "    <tr>\n",
              "      <th>5</th>\n",
              "      <td>[действительно, делаться, очень, многое, прода...</td>\n",
              "      <td>Fri Mar 27 18:18:40 +0000 2020</td>\n",
              "      <td>@dima_29ss @sd100674 Действительно, делается о...</td>\n",
              "    </tr>\n",
              "    <tr>\n",
              "      <th>...</th>\n",
              "      <td>...</td>\n",
              "      <td>...</td>\n",
              "      <td>...</td>\n",
              "    </tr>\n",
              "    <tr>\n",
              "      <th>160945</th>\n",
              "      <td>[никто, сломать, таджик, носитель, корона]</td>\n",
              "      <td>Sun Mar 08 08:00:31 +0000 2020</td>\n",
              "      <td>@jksbabyboo Нас никогда никто не сломает, мы-т...</td>\n",
              "    </tr>\n",
              "    <tr>\n",
              "      <th>160946</th>\n",
              "      <td>[обработка, территория, подъезд, проводить, ка...</td>\n",
              "      <td>Wed Apr 15 04:44:36 +0000 2020</td>\n",
              "      <td>@promadm @SamMobilePriem @Gennadi070786 @D_Aza...</td>\n",
              "    </tr>\n",
              "    <tr>\n",
              "      <th>160947</th>\n",
              "      <td>[россия, нормально, долбоеб, принимать, решение]</td>\n",
              "      <td>Wed Apr 15 10:25:34 +0000 2020</td>\n",
              "      <td>Так в России, это нормально, когда долбоебы пр...</td>\n",
              "    </tr>\n",
              "    <tr>\n",
              "      <th>160948</th>\n",
              "      <td>[коротко, ситуация, короновирус, город, массов...</td>\n",
              "      <td>Sun Mar 15 17:09:07 +0000 2020</td>\n",
              "      <td>Коротко о ситуации с короновирусом в моем горо...</td>\n",
              "    </tr>\n",
              "    <tr>\n",
              "      <th>160949</th>\n",
              "      <td>[идти, день, карантин, купить, краска, волос, ...</td>\n",
              "      <td>Wed Apr 22 19:15:04 +0000 2020</td>\n",
              "      <td>Шел какой там день карантина, я почти купила с...</td>\n",
              "    </tr>\n",
              "  </tbody>\n",
              "</table>\n",
              "<p>144103 rows × 3 columns</p>\n",
              "</div>"
            ],
            "text/plain": [
              "                                                     text  ...                                           raw_text\n",
              "1       [помнить, ухань, мужчина, короновирус, масло, ...  ...  А помните в Ухане мужчина с короновирусом в ра...\n",
              "2       [выходить, выкинуть, мусор, дом, дед, сосед, н...  ...  выходила выкинуть мусор под домом, а дед-сосед...\n",
              "3          [бесить, слово, коронавирус, появление, жизнь]  ...  Меня бесит слово \"коронавирус\" уже с самого ег...\n",
              "4       [топ, коммент, обсуждение, раскупать, магазин,...  ...  топ коммент обсуждения что раскупают в магазин...\n",
              "5       [действительно, делаться, очень, многое, прода...  ...  @dima_29ss @sd100674 Действительно, делается о...\n",
              "...                                                   ...  ...                                                ...\n",
              "160945         [никто, сломать, таджик, носитель, корона]  ...  @jksbabyboo Нас никогда никто не сломает, мы-т...\n",
              "160946  [обработка, территория, подъезд, проводить, ка...  ...  @promadm @SamMobilePriem @Gennadi070786 @D_Aza...\n",
              "160947   [россия, нормально, долбоеб, принимать, решение]  ...  Так в России, это нормально, когда долбоебы пр...\n",
              "160948  [коротко, ситуация, короновирус, город, массов...  ...  Коротко о ситуации с короновирусом в моем горо...\n",
              "160949  [идти, день, карантин, купить, краска, волос, ...  ...  Шел какой там день карантина, я почти купила с...\n",
              "\n",
              "[144103 rows x 3 columns]"
            ]
          },
          "metadata": {},
          "execution_count": 19
        }
      ]
    },
    {
      "cell_type": "code",
      "metadata": {
        "colab": {
          "base_uri": "https://localhost:8080/",
          "height": 423
        },
        "id": "ZP3bZQVyiWjR",
        "outputId": "705347d7-14b6-42a9-c822-7209b0e1f61c"
      },
      "source": [
        "clean_texts_en = func(comments_lemmatized_en)\n",
        "clean_texts_en.to_csv(path+'clean_texts_en.csv', index = False)\n",
        "clean_texts_en"
      ],
      "execution_count": 20,
      "outputs": [
        {
          "output_type": "execute_result",
          "data": {
            "text/html": [
              "<div>\n",
              "<style scoped>\n",
              "    .dataframe tbody tr th:only-of-type {\n",
              "        vertical-align: middle;\n",
              "    }\n",
              "\n",
              "    .dataframe tbody tr th {\n",
              "        vertical-align: top;\n",
              "    }\n",
              "\n",
              "    .dataframe thead th {\n",
              "        text-align: right;\n",
              "    }\n",
              "</style>\n",
              "<table border=\"1\" class=\"dataframe\">\n",
              "  <thead>\n",
              "    <tr style=\"text-align: right;\">\n",
              "      <th></th>\n",
              "      <th>text</th>\n",
              "      <th>date</th>\n",
              "      <th>raw_text</th>\n",
              "    </tr>\n",
              "  </thead>\n",
              "  <tbody>\n",
              "    <tr>\n",
              "      <th>0</th>\n",
              "      <td>[asks, life, back, normal, coronavirus]</td>\n",
              "      <td>Mon May 11 17:13:00 +0000 2020</td>\n",
              "      <td>umair haque asks if life will go back to norma...</td>\n",
              "    </tr>\n",
              "    <tr>\n",
              "      <th>2</th>\n",
              "      <td>[cities, lockdown, amid, covid, scare, scenes,...</td>\n",
              "      <td>Mon Mar 23 08:49:20 +0000 2020</td>\n",
              "      <td>Cities under lockdown amid Covid-19 scare: Sce...</td>\n",
              "    </tr>\n",
              "    <tr>\n",
              "      <th>3</th>\n",
              "      <td>[covid, conservative, nhs, need, self, test]</td>\n",
              "      <td>Mon May 25 18:05:05 +0000 2020</td>\n",
              "      <td>#SackBorisAndDom #COVID19 #Conservative #KierS...</td>\n",
              "    </tr>\n",
              "    <tr>\n",
              "      <th>4</th>\n",
              "      <td>[governor, kemp, wont, open, georgia, restaura...</td>\n",
              "      <td>Fri Apr 24 17:21:24 +0000 2020</td>\n",
              "      <td>No, Governor Kemp, I won’t open my Georgia res...</td>\n",
              "    </tr>\n",
              "    <tr>\n",
              "      <th>5</th>\n",
              "      <td>[wisconsin, coronavirus, cases, rise, nearly, ...</td>\n",
              "      <td>Sun May 31 00:17:34 +0000 2020</td>\n",
              "      <td>Wisconsin coronavirus cases rise by nearly 20 ...</td>\n",
              "    </tr>\n",
              "    <tr>\n",
              "      <th>...</th>\n",
              "      <td>...</td>\n",
              "      <td>...</td>\n",
              "      <td>...</td>\n",
              "    </tr>\n",
              "    <tr>\n",
              "      <th>152814</th>\n",
              "      <td>[health, covid, enforcement, statistics, infor...</td>\n",
              "      <td>Fri Apr 17 14:50:26 +0000 2020</td>\n",
              "      <td>(Health) COVID-19 enforcement statistics infor...</td>\n",
              "    </tr>\n",
              "    <tr>\n",
              "      <th>152815</th>\n",
              "      <td>[coronavirus, confirmed, cases, double, china,...</td>\n",
              "      <td>Tue Mar 31 16:37:19 +0000 2020</td>\n",
              "      <td>\"Coronavirus: US confirmed cases now double th...</td>\n",
              "    </tr>\n",
              "    <tr>\n",
              "      <th>152818</th>\n",
              "      <td>[day, job, top, aide, night, one, volunteer, l...</td>\n",
              "      <td>Thu May 07 15:27:58 +0000 2020</td>\n",
              "      <td>Day Job: Cory Booker’s Top Aide. His Night One...</td>\n",
              "    </tr>\n",
              "    <tr>\n",
              "      <th>152819</th>\n",
              "      <td>[remember, care, voters, care]</td>\n",
              "      <td>Sun Apr 12 23:42:11 +0000 2020</td>\n",
              "      <td>Remember: F*CK @speakvos @SenFitzgerald @mkego...</td>\n",
              "    </tr>\n",
              "    <tr>\n",
              "      <th>152820</th>\n",
              "      <td>[update, got, explained, anxiety, said, should...</td>\n",
              "      <td>Wed Mar 18 14:44:05 +0000 2020</td>\n",
              "      <td>Update, she got passive aggresive when I expla...</td>\n",
              "    </tr>\n",
              "  </tbody>\n",
              "</table>\n",
              "<p>132331 rows × 3 columns</p>\n",
              "</div>"
            ],
            "text/plain": [
              "                                                     text  ...                                           raw_text\n",
              "0                 [asks, life, back, normal, coronavirus]  ...  umair haque asks if life will go back to norma...\n",
              "2       [cities, lockdown, amid, covid, scare, scenes,...  ...  Cities under lockdown amid Covid-19 scare: Sce...\n",
              "3            [covid, conservative, nhs, need, self, test]  ...  #SackBorisAndDom #COVID19 #Conservative #KierS...\n",
              "4       [governor, kemp, wont, open, georgia, restaura...  ...  No, Governor Kemp, I won’t open my Georgia res...\n",
              "5       [wisconsin, coronavirus, cases, rise, nearly, ...  ...  Wisconsin coronavirus cases rise by nearly 20 ...\n",
              "...                                                   ...  ...                                                ...\n",
              "152814  [health, covid, enforcement, statistics, infor...  ...  (Health) COVID-19 enforcement statistics infor...\n",
              "152815  [coronavirus, confirmed, cases, double, china,...  ...  \"Coronavirus: US confirmed cases now double th...\n",
              "152818  [day, job, top, aide, night, one, volunteer, l...  ...  Day Job: Cory Booker’s Top Aide. His Night One...\n",
              "152819                     [remember, care, voters, care]  ...  Remember: F*CK @speakvos @SenFitzgerald @mkego...\n",
              "152820  [update, got, explained, anxiety, said, should...  ...  Update, she got passive aggresive when I expla...\n",
              "\n",
              "[132331 rows x 3 columns]"
            ]
          },
          "metadata": {},
          "execution_count": 20
        }
      ]
    }
  ]
}